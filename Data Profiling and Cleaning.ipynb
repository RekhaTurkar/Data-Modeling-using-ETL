{
 "cells": [
  {
   "cell_type": "code",
   "execution_count": 3,
   "metadata": {},
   "outputs": [],
   "source": [
    "#Importing the required libraries\n",
    "\n",
    "import pandas as pd\n",
    "import numpy as np\n",
    "import seaborn as sns\n",
    "import matplotlib.pyplot as plt"
   ]
  },
  {
   "cell_type": "code",
   "execution_count": 4,
   "metadata": {},
   "outputs": [],
   "source": [
    "#Fetching dataset as csv file\n",
    "\n",
    "base_data = pd.read_csv(r\".....\\Airline Data.csv\", encoding=\"latin1\")"
   ]
  },
  {
   "cell_type": "code",
   "execution_count": 5,
   "metadata": {},
   "outputs": [
    {
     "data": {
      "text/html": [
       "<div>\n",
       "<style scoped>\n",
       "    .dataframe tbody tr th:only-of-type {\n",
       "        vertical-align: middle;\n",
       "    }\n",
       "\n",
       "    .dataframe tbody tr th {\n",
       "        vertical-align: top;\n",
       "    }\n",
       "\n",
       "    .dataframe thead th {\n",
       "        text-align: right;\n",
       "    }\n",
       "</style>\n",
       "<table border=\"1\" class=\"dataframe\">\n",
       "  <thead>\n",
       "    <tr style=\"text-align: right;\">\n",
       "      <th></th>\n",
       "      <th>airline</th>\n",
       "      <th>airlineID</th>\n",
       "      <th>sourceAirport</th>\n",
       "      <th>sourceAirportID</th>\n",
       "      <th>sourceAirportName</th>\n",
       "      <th>sourceCity</th>\n",
       "      <th>sourceCountry</th>\n",
       "      <th>sourceLat</th>\n",
       "      <th>sourceLon</th>\n",
       "      <th>destinationAirport</th>\n",
       "      <th>...</th>\n",
       "      <th>destinationAirportName</th>\n",
       "      <th>destinationCity</th>\n",
       "      <th>destinationCountry</th>\n",
       "      <th>destinationLat</th>\n",
       "      <th>destinationLon</th>\n",
       "      <th>Codeshare</th>\n",
       "      <th>Stops</th>\n",
       "      <th>Equipment</th>\n",
       "      <th>airlineName</th>\n",
       "      <th>active</th>\n",
       "    </tr>\n",
       "  </thead>\n",
       "  <tbody>\n",
       "    <tr>\n",
       "      <th>0</th>\n",
       "      <td>AH</td>\n",
       "      <td>794</td>\n",
       "      <td>AAE</td>\n",
       "      <td>220</td>\n",
       "      <td>Rabah Bitat Airport</td>\n",
       "      <td>Annaba</td>\n",
       "      <td>Algeria</td>\n",
       "      <td>36.822201</td>\n",
       "      <td>7.809174</td>\n",
       "      <td>ALG</td>\n",
       "      <td>...</td>\n",
       "      <td>Houari Boumediene Airport</td>\n",
       "      <td>Algier</td>\n",
       "      <td>Algeria</td>\n",
       "      <td>36.691002</td>\n",
       "      <td>3.21541</td>\n",
       "      <td>NaN</td>\n",
       "      <td>0</td>\n",
       "      <td>738 ATR 736</td>\n",
       "      <td>Air Algerie</td>\n",
       "      <td>Y</td>\n",
       "    </tr>\n",
       "    <tr>\n",
       "      <th>1</th>\n",
       "      <td>AH</td>\n",
       "      <td>794</td>\n",
       "      <td>AAE</td>\n",
       "      <td>220</td>\n",
       "      <td>Rabah Bitat Airport</td>\n",
       "      <td>Annaba</td>\n",
       "      <td>Algeria</td>\n",
       "      <td>36.822201</td>\n",
       "      <td>7.809174</td>\n",
       "      <td>CDG</td>\n",
       "      <td>...</td>\n",
       "      <td>Charles de Gaulle International Airport</td>\n",
       "      <td>Paris</td>\n",
       "      <td>France</td>\n",
       "      <td>49.012798</td>\n",
       "      <td>2.55000</td>\n",
       "      <td>NaN</td>\n",
       "      <td>0</td>\n",
       "      <td>738</td>\n",
       "      <td>Air Algerie</td>\n",
       "      <td>Y</td>\n",
       "    </tr>\n",
       "  </tbody>\n",
       "</table>\n",
       "<p>2 rows × 21 columns</p>\n",
       "</div>"
      ],
      "text/plain": [
       "  airline  airlineID sourceAirport  sourceAirportID    sourceAirportName  \\\n",
       "0      AH        794           AAE              220  Rabah Bitat Airport   \n",
       "1      AH        794           AAE              220  Rabah Bitat Airport   \n",
       "\n",
       "  sourceCity sourceCountry  sourceLat  sourceLon destinationAirport  ...  \\\n",
       "0     Annaba       Algeria  36.822201   7.809174                ALG  ...   \n",
       "1     Annaba       Algeria  36.822201   7.809174                CDG  ...   \n",
       "\n",
       "                    destinationAirportName destinationCity destinationCountry  \\\n",
       "0                Houari Boumediene Airport          Algier            Algeria   \n",
       "1  Charles de Gaulle International Airport           Paris             France   \n",
       "\n",
       "  destinationLat  destinationLon  Codeshare Stops    Equipment  airlineName  \\\n",
       "0      36.691002         3.21541        NaN     0  738 ATR 736  Air Algerie   \n",
       "1      49.012798         2.55000        NaN     0          738  Air Algerie   \n",
       "\n",
       "  active  \n",
       "0      Y  \n",
       "1      Y  \n",
       "\n",
       "[2 rows x 21 columns]"
      ]
     },
     "execution_count": 5,
     "metadata": {},
     "output_type": "execute_result"
    }
   ],
   "source": [
    "base_data.head(2)"
   ]
  },
  {
   "cell_type": "markdown",
   "metadata": {},
   "source": [
    "# Analyzing Data"
   ]
  },
  {
   "cell_type": "code",
   "execution_count": 6,
   "metadata": {},
   "outputs": [
    {
     "data": {
      "text/plain": [
       "pandas.core.frame.DataFrame"
      ]
     },
     "execution_count": 6,
     "metadata": {},
     "output_type": "execute_result"
    }
   ],
   "source": [
    "type(base_data)"
   ]
  },
  {
   "cell_type": "code",
   "execution_count": 7,
   "metadata": {},
   "outputs": [
    {
     "name": "stdout",
     "output_type": "stream",
     "text": [
      "DataType Details : \n",
      " airline                    object\n",
      "airlineID                   int64\n",
      "sourceAirport              object\n",
      "sourceAirportID             int64\n",
      "sourceAirportName          object\n",
      "sourceCity                 object\n",
      "sourceCountry              object\n",
      "sourceLat                 float64\n",
      "sourceLon                 float64\n",
      "destinationAirport         object\n",
      "destinationAirportID        int64\n",
      "destinationAirportName     object\n",
      "destinationCity            object\n",
      "destinationCountry         object\n",
      "destinationLat            float64\n",
      "destinationLon            float64\n",
      "Codeshare                  object\n",
      "Stops                       int64\n",
      "Equipment                  object\n",
      "airlineName                object\n",
      "active                     object\n",
      "dtype: object\n",
      "\n",
      "\n",
      "Data Size: \n",
      " (66442, 21)\n"
     ]
    }
   ],
   "source": [
    "#Checking the dataset details and it's size\n",
    "\n",
    "print(\"DataType Details : \\n\", base_data.dtypes)\n",
    "print(\"\\n\\nData Size: \\n\", base_data.shape)"
   ]
  },
  {
   "cell_type": "code",
   "execution_count": 8,
   "metadata": {},
   "outputs": [
    {
     "name": "stdout",
     "output_type": "stream",
     "text": [
      "<class 'pandas.core.frame.DataFrame'>\n",
      "RangeIndex: 66442 entries, 0 to 66441\n",
      "Data columns (total 21 columns):\n",
      " #   Column                  Non-Null Count  Dtype  \n",
      "---  ------                  --------------  -----  \n",
      " 0   airline                 66442 non-null  object \n",
      " 1   airlineID               66442 non-null  int64  \n",
      " 2   sourceAirport           66442 non-null  object \n",
      " 3   sourceAirportID         66442 non-null  int64  \n",
      " 4   sourceAirportName       66442 non-null  object \n",
      " 5   sourceCity              66442 non-null  object \n",
      " 6   sourceCountry           66442 non-null  object \n",
      " 7   sourceLat               66442 non-null  float64\n",
      " 8   sourceLon               66442 non-null  float64\n",
      " 9   destinationAirport      66442 non-null  object \n",
      " 10  destinationAirportID    66442 non-null  int64  \n",
      " 11  destinationAirportName  66176 non-null  object \n",
      " 12  destinationCity         66176 non-null  object \n",
      " 13  destinationCountry      66176 non-null  object \n",
      " 14  destinationLat          66176 non-null  float64\n",
      " 15  destinationLon          66176 non-null  float64\n",
      " 16  Codeshare               14496 non-null  object \n",
      " 17  Stops                   66442 non-null  int64  \n",
      " 18  Equipment               66426 non-null  object \n",
      " 19  airlineName             66442 non-null  object \n",
      " 20  active                  66442 non-null  object \n",
      "dtypes: float64(4), int64(4), object(13)\n",
      "memory usage: 10.6+ MB\n"
     ]
    }
   ],
   "source": [
    "#Checking the Dataset total datatype\n",
    "\n",
    "base_data.info()"
   ]
  },
  {
   "cell_type": "code",
   "execution_count": 9,
   "metadata": {},
   "outputs": [
    {
     "data": {
      "text/html": [
       "<div>\n",
       "<style scoped>\n",
       "    .dataframe tbody tr th:only-of-type {\n",
       "        vertical-align: middle;\n",
       "    }\n",
       "\n",
       "    .dataframe tbody tr th {\n",
       "        vertical-align: top;\n",
       "    }\n",
       "\n",
       "    .dataframe thead th {\n",
       "        text-align: right;\n",
       "    }\n",
       "</style>\n",
       "<table border=\"1\" class=\"dataframe\">\n",
       "  <thead>\n",
       "    <tr style=\"text-align: right;\">\n",
       "      <th></th>\n",
       "      <th>airline</th>\n",
       "      <th>airlineID</th>\n",
       "      <th>sourceAirport</th>\n",
       "      <th>sourceAirportID</th>\n",
       "      <th>sourceAirportName</th>\n",
       "      <th>sourceCity</th>\n",
       "      <th>sourceCountry</th>\n",
       "      <th>sourceLat</th>\n",
       "      <th>sourceLon</th>\n",
       "      <th>destinationAirport</th>\n",
       "      <th>...</th>\n",
       "      <th>destinationAirportName</th>\n",
       "      <th>destinationCity</th>\n",
       "      <th>destinationCountry</th>\n",
       "      <th>destinationLat</th>\n",
       "      <th>destinationLon</th>\n",
       "      <th>Codeshare</th>\n",
       "      <th>Stops</th>\n",
       "      <th>Equipment</th>\n",
       "      <th>airlineName</th>\n",
       "      <th>active</th>\n",
       "    </tr>\n",
       "  </thead>\n",
       "  <tbody>\n",
       "    <tr>\n",
       "      <th>0</th>\n",
       "      <td>AH</td>\n",
       "      <td>794</td>\n",
       "      <td>AAE</td>\n",
       "      <td>220</td>\n",
       "      <td>Rabah Bitat Airport</td>\n",
       "      <td>Annaba</td>\n",
       "      <td>Algeria</td>\n",
       "      <td>36.822201</td>\n",
       "      <td>7.809174</td>\n",
       "      <td>ALG</td>\n",
       "      <td>...</td>\n",
       "      <td>Houari Boumediene Airport</td>\n",
       "      <td>Algier</td>\n",
       "      <td>Algeria</td>\n",
       "      <td>36.691002</td>\n",
       "      <td>3.21541</td>\n",
       "      <td>NaN</td>\n",
       "      <td>0</td>\n",
       "      <td>738 ATR 736</td>\n",
       "      <td>Air Algerie</td>\n",
       "      <td>Y</td>\n",
       "    </tr>\n",
       "    <tr>\n",
       "      <th>1</th>\n",
       "      <td>AH</td>\n",
       "      <td>794</td>\n",
       "      <td>AAE</td>\n",
       "      <td>220</td>\n",
       "      <td>Rabah Bitat Airport</td>\n",
       "      <td>Annaba</td>\n",
       "      <td>Algeria</td>\n",
       "      <td>36.822201</td>\n",
       "      <td>7.809174</td>\n",
       "      <td>CDG</td>\n",
       "      <td>...</td>\n",
       "      <td>Charles de Gaulle International Airport</td>\n",
       "      <td>Paris</td>\n",
       "      <td>France</td>\n",
       "      <td>49.012798</td>\n",
       "      <td>2.55000</td>\n",
       "      <td>NaN</td>\n",
       "      <td>0</td>\n",
       "      <td>738</td>\n",
       "      <td>Air Algerie</td>\n",
       "      <td>Y</td>\n",
       "    </tr>\n",
       "  </tbody>\n",
       "</table>\n",
       "<p>2 rows × 21 columns</p>\n",
       "</div>"
      ],
      "text/plain": [
       "  airline  airlineID sourceAirport  sourceAirportID    sourceAirportName  \\\n",
       "0      AH        794           AAE              220  Rabah Bitat Airport   \n",
       "1      AH        794           AAE              220  Rabah Bitat Airport   \n",
       "\n",
       "  sourceCity sourceCountry  sourceLat  sourceLon destinationAirport  ...  \\\n",
       "0     Annaba       Algeria  36.822201   7.809174                ALG  ...   \n",
       "1     Annaba       Algeria  36.822201   7.809174                CDG  ...   \n",
       "\n",
       "                    destinationAirportName destinationCity destinationCountry  \\\n",
       "0                Houari Boumediene Airport          Algier            Algeria   \n",
       "1  Charles de Gaulle International Airport           Paris             France   \n",
       "\n",
       "  destinationLat  destinationLon  Codeshare Stops    Equipment  airlineName  \\\n",
       "0      36.691002         3.21541        NaN     0  738 ATR 736  Air Algerie   \n",
       "1      49.012798         2.55000        NaN     0          738  Air Algerie   \n",
       "\n",
       "  active  \n",
       "0      Y  \n",
       "1      Y  \n",
       "\n",
       "[2 rows x 21 columns]"
      ]
     },
     "execution_count": 9,
     "metadata": {},
     "output_type": "execute_result"
    }
   ],
   "source": [
    "base_data.head(2)"
   ]
  },
  {
   "cell_type": "code",
   "execution_count": 10,
   "metadata": {},
   "outputs": [
    {
     "data": {
      "text/plain": [
       "<AxesSubplot:ylabel='Frequency'>"
      ]
     },
     "execution_count": 10,
     "metadata": {},
     "output_type": "execute_result"
    },
    {
     "data": {
      "image/png": "[encoded data removed]",
      "text/plain": [
       "<Figure size 432x288 with 1 Axes>"
      ]
     },
     "metadata": {
      "needs_background": "light"
     },
     "output_type": "display_data"
    }
   ],
   "source": [
    "base_data[\"sourceAirportID\"].plot.hist()"
   ]
  },
  {
   "cell_type": "code",
   "execution_count": 36,
   "metadata": {},
   "outputs": [
    {
     "data": {
      "text/plain": [
       "<AxesSubplot:ylabel='Frequency'>"
      ]
     },
     "execution_count": 36,
     "metadata": {},
     "output_type": "execute_result"
    },
    {
     "data": {
      "image/png": "[encoded data removed]",
      "text/plain": [
       "<Figure size 1800x648 with 1 Axes>"
      ]
     },
     "metadata": {
      "needs_background": "light"
     },
     "output_type": "display_data"
    }
   ],
   "source": [
    "base_data[\"sourceAirportID\"].plot.hist(bins=20,figsize = (25,9))"
   ]
  },
  {
   "cell_type": "code",
   "execution_count": 11,
   "metadata": {},
   "outputs": [
    {
     "data": {
      "text/plain": [
       "<AxesSubplot:xlabel='airlineID', ylabel='count'>"
      ]
     },
     "execution_count": 11,
     "metadata": {},
     "output_type": "execute_result"
    },
    {
     "data": {
      "image/png": "[encoded data removed]",
      "text/plain": [
       "<Figure size 432x288 with 1 Axes>"
      ]
     },
     "metadata": {
      "needs_background": "light"
     },
     "output_type": "display_data"
    }
   ],
   "source": [
    "sns.countplot(x=\"airlineID\", hue = \"Stops\", data = base_data)"
   ]
  },
  {
   "cell_type": "code",
   "execution_count": 12,
   "metadata": {},
   "outputs": [
    {
     "data": {
      "text/html": [
       "<div>\n",
       "<style scoped>\n",
       "    .dataframe tbody tr th:only-of-type {\n",
       "        vertical-align: middle;\n",
       "    }\n",
       "\n",
       "    .dataframe tbody tr th {\n",
       "        vertical-align: top;\n",
       "    }\n",
       "\n",
       "    .dataframe thead th {\n",
       "        text-align: right;\n",
       "    }\n",
       "</style>\n",
       "<table border=\"1\" class=\"dataframe\">\n",
       "  <thead>\n",
       "    <tr style=\"text-align: right;\">\n",
       "      <th></th>\n",
       "      <th>airline</th>\n",
       "      <th>airlineID</th>\n",
       "      <th>sourceAirport</th>\n",
       "      <th>sourceAirportID</th>\n",
       "      <th>sourceAirportName</th>\n",
       "      <th>sourceCity</th>\n",
       "      <th>sourceCountry</th>\n",
       "      <th>sourceLat</th>\n",
       "      <th>sourceLon</th>\n",
       "      <th>destinationAirport</th>\n",
       "      <th>...</th>\n",
       "      <th>destinationAirportName</th>\n",
       "      <th>destinationCity</th>\n",
       "      <th>destinationCountry</th>\n",
       "      <th>destinationLat</th>\n",
       "      <th>destinationLon</th>\n",
       "      <th>Codeshare</th>\n",
       "      <th>Stops</th>\n",
       "      <th>Equipment</th>\n",
       "      <th>airlineName</th>\n",
       "      <th>active</th>\n",
       "    </tr>\n",
       "  </thead>\n",
       "  <tbody>\n",
       "    <tr>\n",
       "      <th>0</th>\n",
       "      <td>False</td>\n",
       "      <td>False</td>\n",
       "      <td>False</td>\n",
       "      <td>False</td>\n",
       "      <td>False</td>\n",
       "      <td>False</td>\n",
       "      <td>False</td>\n",
       "      <td>False</td>\n",
       "      <td>False</td>\n",
       "      <td>False</td>\n",
       "      <td>...</td>\n",
       "      <td>False</td>\n",
       "      <td>False</td>\n",
       "      <td>False</td>\n",
       "      <td>False</td>\n",
       "      <td>False</td>\n",
       "      <td>True</td>\n",
       "      <td>False</td>\n",
       "      <td>False</td>\n",
       "      <td>False</td>\n",
       "      <td>False</td>\n",
       "    </tr>\n",
       "    <tr>\n",
       "      <th>1</th>\n",
       "      <td>False</td>\n",
       "      <td>False</td>\n",
       "      <td>False</td>\n",
       "      <td>False</td>\n",
       "      <td>False</td>\n",
       "      <td>False</td>\n",
       "      <td>False</td>\n",
       "      <td>False</td>\n",
       "      <td>False</td>\n",
       "      <td>False</td>\n",
       "      <td>...</td>\n",
       "      <td>False</td>\n",
       "      <td>False</td>\n",
       "      <td>False</td>\n",
       "      <td>False</td>\n",
       "      <td>False</td>\n",
       "      <td>True</td>\n",
       "      <td>False</td>\n",
       "      <td>False</td>\n",
       "      <td>False</td>\n",
       "      <td>False</td>\n",
       "    </tr>\n",
       "    <tr>\n",
       "      <th>2</th>\n",
       "      <td>False</td>\n",
       "      <td>False</td>\n",
       "      <td>False</td>\n",
       "      <td>False</td>\n",
       "      <td>False</td>\n",
       "      <td>False</td>\n",
       "      <td>False</td>\n",
       "      <td>False</td>\n",
       "      <td>False</td>\n",
       "      <td>False</td>\n",
       "      <td>...</td>\n",
       "      <td>False</td>\n",
       "      <td>False</td>\n",
       "      <td>False</td>\n",
       "      <td>False</td>\n",
       "      <td>False</td>\n",
       "      <td>True</td>\n",
       "      <td>False</td>\n",
       "      <td>False</td>\n",
       "      <td>False</td>\n",
       "      <td>False</td>\n",
       "    </tr>\n",
       "    <tr>\n",
       "      <th>3</th>\n",
       "      <td>False</td>\n",
       "      <td>False</td>\n",
       "      <td>False</td>\n",
       "      <td>False</td>\n",
       "      <td>False</td>\n",
       "      <td>False</td>\n",
       "      <td>False</td>\n",
       "      <td>False</td>\n",
       "      <td>False</td>\n",
       "      <td>False</td>\n",
       "      <td>...</td>\n",
       "      <td>False</td>\n",
       "      <td>False</td>\n",
       "      <td>False</td>\n",
       "      <td>False</td>\n",
       "      <td>False</td>\n",
       "      <td>True</td>\n",
       "      <td>False</td>\n",
       "      <td>False</td>\n",
       "      <td>False</td>\n",
       "      <td>False</td>\n",
       "    </tr>\n",
       "    <tr>\n",
       "      <th>4</th>\n",
       "      <td>False</td>\n",
       "      <td>False</td>\n",
       "      <td>False</td>\n",
       "      <td>False</td>\n",
       "      <td>False</td>\n",
       "      <td>False</td>\n",
       "      <td>False</td>\n",
       "      <td>False</td>\n",
       "      <td>False</td>\n",
       "      <td>False</td>\n",
       "      <td>...</td>\n",
       "      <td>False</td>\n",
       "      <td>False</td>\n",
       "      <td>False</td>\n",
       "      <td>False</td>\n",
       "      <td>False</td>\n",
       "      <td>True</td>\n",
       "      <td>False</td>\n",
       "      <td>False</td>\n",
       "      <td>False</td>\n",
       "      <td>False</td>\n",
       "    </tr>\n",
       "    <tr>\n",
       "      <th>...</th>\n",
       "      <td>...</td>\n",
       "      <td>...</td>\n",
       "      <td>...</td>\n",
       "      <td>...</td>\n",
       "      <td>...</td>\n",
       "      <td>...</td>\n",
       "      <td>...</td>\n",
       "      <td>...</td>\n",
       "      <td>...</td>\n",
       "      <td>...</td>\n",
       "      <td>...</td>\n",
       "      <td>...</td>\n",
       "      <td>...</td>\n",
       "      <td>...</td>\n",
       "      <td>...</td>\n",
       "      <td>...</td>\n",
       "      <td>...</td>\n",
       "      <td>...</td>\n",
       "      <td>...</td>\n",
       "      <td>...</td>\n",
       "      <td>...</td>\n",
       "    </tr>\n",
       "    <tr>\n",
       "      <th>66437</th>\n",
       "      <td>False</td>\n",
       "      <td>False</td>\n",
       "      <td>False</td>\n",
       "      <td>False</td>\n",
       "      <td>False</td>\n",
       "      <td>False</td>\n",
       "      <td>False</td>\n",
       "      <td>False</td>\n",
       "      <td>False</td>\n",
       "      <td>False</td>\n",
       "      <td>...</td>\n",
       "      <td>False</td>\n",
       "      <td>False</td>\n",
       "      <td>False</td>\n",
       "      <td>False</td>\n",
       "      <td>False</td>\n",
       "      <td>False</td>\n",
       "      <td>False</td>\n",
       "      <td>False</td>\n",
       "      <td>False</td>\n",
       "      <td>False</td>\n",
       "    </tr>\n",
       "    <tr>\n",
       "      <th>66438</th>\n",
       "      <td>False</td>\n",
       "      <td>False</td>\n",
       "      <td>False</td>\n",
       "      <td>False</td>\n",
       "      <td>False</td>\n",
       "      <td>False</td>\n",
       "      <td>False</td>\n",
       "      <td>False</td>\n",
       "      <td>False</td>\n",
       "      <td>False</td>\n",
       "      <td>...</td>\n",
       "      <td>False</td>\n",
       "      <td>False</td>\n",
       "      <td>False</td>\n",
       "      <td>False</td>\n",
       "      <td>False</td>\n",
       "      <td>True</td>\n",
       "      <td>False</td>\n",
       "      <td>False</td>\n",
       "      <td>False</td>\n",
       "      <td>False</td>\n",
       "    </tr>\n",
       "    <tr>\n",
       "      <th>66439</th>\n",
       "      <td>False</td>\n",
       "      <td>False</td>\n",
       "      <td>False</td>\n",
       "      <td>False</td>\n",
       "      <td>False</td>\n",
       "      <td>False</td>\n",
       "      <td>False</td>\n",
       "      <td>False</td>\n",
       "      <td>False</td>\n",
       "      <td>False</td>\n",
       "      <td>...</td>\n",
       "      <td>False</td>\n",
       "      <td>False</td>\n",
       "      <td>False</td>\n",
       "      <td>False</td>\n",
       "      <td>False</td>\n",
       "      <td>True</td>\n",
       "      <td>False</td>\n",
       "      <td>False</td>\n",
       "      <td>False</td>\n",
       "      <td>False</td>\n",
       "    </tr>\n",
       "    <tr>\n",
       "      <th>66440</th>\n",
       "      <td>False</td>\n",
       "      <td>False</td>\n",
       "      <td>False</td>\n",
       "      <td>False</td>\n",
       "      <td>False</td>\n",
       "      <td>False</td>\n",
       "      <td>False</td>\n",
       "      <td>False</td>\n",
       "      <td>False</td>\n",
       "      <td>False</td>\n",
       "      <td>...</td>\n",
       "      <td>False</td>\n",
       "      <td>False</td>\n",
       "      <td>False</td>\n",
       "      <td>False</td>\n",
       "      <td>False</td>\n",
       "      <td>True</td>\n",
       "      <td>False</td>\n",
       "      <td>False</td>\n",
       "      <td>False</td>\n",
       "      <td>False</td>\n",
       "    </tr>\n",
       "    <tr>\n",
       "      <th>66441</th>\n",
       "      <td>False</td>\n",
       "      <td>False</td>\n",
       "      <td>False</td>\n",
       "      <td>False</td>\n",
       "      <td>False</td>\n",
       "      <td>False</td>\n",
       "      <td>False</td>\n",
       "      <td>False</td>\n",
       "      <td>False</td>\n",
       "      <td>False</td>\n",
       "      <td>...</td>\n",
       "      <td>False</td>\n",
       "      <td>False</td>\n",
       "      <td>False</td>\n",
       "      <td>False</td>\n",
       "      <td>False</td>\n",
       "      <td>True</td>\n",
       "      <td>False</td>\n",
       "      <td>False</td>\n",
       "      <td>False</td>\n",
       "      <td>False</td>\n",
       "    </tr>\n",
       "  </tbody>\n",
       "</table>\n",
       "<p>66442 rows × 21 columns</p>\n",
       "</div>"
      ],
      "text/plain": [
       "       airline  airlineID  sourceAirport  sourceAirportID  sourceAirportName  \\\n",
       "0        False      False          False            False              False   \n",
       "1        False      False          False            False              False   \n",
       "2        False      False          False            False              False   \n",
       "3        False      False          False            False              False   \n",
       "4        False      False          False            False              False   \n",
       "...        ...        ...            ...              ...                ...   \n",
       "66437    False      False          False            False              False   \n",
       "66438    False      False          False            False              False   \n",
       "66439    False      False          False            False              False   \n",
       "66440    False      False          False            False              False   \n",
       "66441    False      False          False            False              False   \n",
       "\n",
       "       sourceCity  sourceCountry  sourceLat  sourceLon  destinationAirport  \\\n",
       "0           False          False      False      False               False   \n",
       "1           False          False      False      False               False   \n",
       "2           False          False      False      False               False   \n",
       "3           False          False      False      False               False   \n",
       "4           False          False      False      False               False   \n",
       "...           ...            ...        ...        ...                 ...   \n",
       "66437       False          False      False      False               False   \n",
       "66438       False          False      False      False               False   \n",
       "66439       False          False      False      False               False   \n",
       "66440       False          False      False      False               False   \n",
       "66441       False          False      False      False               False   \n",
       "\n",
       "       ...  destinationAirportName  destinationCity  destinationCountry  \\\n",
       "0      ...                   False            False               False   \n",
       "1      ...                   False            False               False   \n",
       "2      ...                   False            False               False   \n",
       "3      ...                   False            False               False   \n",
       "4      ...                   False            False               False   \n",
       "...    ...                     ...              ...                 ...   \n",
       "66437  ...                   False            False               False   \n",
       "66438  ...                   False            False               False   \n",
       "66439  ...                   False            False               False   \n",
       "66440  ...                   False            False               False   \n",
       "66441  ...                   False            False               False   \n",
       "\n",
       "       destinationLat  destinationLon  Codeshare  Stops  Equipment  \\\n",
       "0               False           False       True  False      False   \n",
       "1               False           False       True  False      False   \n",
       "2               False           False       True  False      False   \n",
       "3               False           False       True  False      False   \n",
       "4               False           False       True  False      False   \n",
       "...               ...             ...        ...    ...        ...   \n",
       "66437           False           False      False  False      False   \n",
       "66438           False           False       True  False      False   \n",
       "66439           False           False       True  False      False   \n",
       "66440           False           False       True  False      False   \n",
       "66441           False           False       True  False      False   \n",
       "\n",
       "       airlineName  active  \n",
       "0            False   False  \n",
       "1            False   False  \n",
       "2            False   False  \n",
       "3            False   False  \n",
       "4            False   False  \n",
       "...            ...     ...  \n",
       "66437        False   False  \n",
       "66438        False   False  \n",
       "66439        False   False  \n",
       "66440        False   False  \n",
       "66441        False   False  \n",
       "\n",
       "[66442 rows x 21 columns]"
      ]
     },
     "execution_count": 12,
     "metadata": {},
     "output_type": "execute_result"
    }
   ],
   "source": [
    "#Checking the null values in dataset\n",
    "\n",
    "base_data.isnull()"
   ]
  },
  {
   "cell_type": "code",
   "execution_count": 13,
   "metadata": {},
   "outputs": [
    {
     "data": {
      "text/plain": [
       "airline                       0\n",
       "airlineID                     0\n",
       "sourceAirport                 0\n",
       "sourceAirportID               0\n",
       "sourceAirportName             0\n",
       "sourceCity                    0\n",
       "sourceCountry                 0\n",
       "sourceLat                     0\n",
       "sourceLon                     0\n",
       "destinationAirport            0\n",
       "destinationAirportID          0\n",
       "destinationAirportName      266\n",
       "destinationCity             266\n",
       "destinationCountry          266\n",
       "destinationLat              266\n",
       "destinationLon              266\n",
       "Codeshare                 51946\n",
       "Stops                         0\n",
       "Equipment                    16\n",
       "airlineName                   0\n",
       "active                        0\n",
       "dtype: int64"
      ]
     },
     "execution_count": 13,
     "metadata": {},
     "output_type": "execute_result"
    }
   ],
   "source": [
    "#Null values count per coulum\n",
    "\n",
    "base_data.isnull().sum()"
   ]
  },
  {
   "cell_type": "markdown",
   "metadata": {},
   "source": [
    "# Data Cleaning"
   ]
  },
  {
   "cell_type": "code",
   "execution_count": 14,
   "metadata": {},
   "outputs": [],
   "source": [
    "# Removing the coulumns that are not required\n",
    "\n",
    "base_data = base_data.drop([\"Codeshare\", \"sourceLat\", \"sourceLon\", \"destinationLat\", \"destinationLon\", \"Equipment\"], axis = 1)"
   ]
  },
  {
   "cell_type": "code",
   "execution_count": 15,
   "metadata": {
    "scrolled": true
   },
   "outputs": [
    {
     "data": {
      "text/html": [
       "<div>\n",
       "<style scoped>\n",
       "    .dataframe tbody tr th:only-of-type {\n",
       "        vertical-align: middle;\n",
       "    }\n",
       "\n",
       "    .dataframe tbody tr th {\n",
       "        vertical-align: top;\n",
       "    }\n",
       "\n",
       "    .dataframe thead th {\n",
       "        text-align: right;\n",
       "    }\n",
       "</style>\n",
       "<table border=\"1\" class=\"dataframe\">\n",
       "  <thead>\n",
       "    <tr style=\"text-align: right;\">\n",
       "      <th></th>\n",
       "      <th>airline</th>\n",
       "      <th>airlineID</th>\n",
       "      <th>sourceAirport</th>\n",
       "      <th>sourceAirportID</th>\n",
       "      <th>sourceAirportName</th>\n",
       "      <th>sourceCity</th>\n",
       "      <th>sourceCountry</th>\n",
       "      <th>destinationAirport</th>\n",
       "      <th>destinationAirportID</th>\n",
       "      <th>destinationAirportName</th>\n",
       "      <th>destinationCity</th>\n",
       "      <th>destinationCountry</th>\n",
       "      <th>Stops</th>\n",
       "      <th>airlineName</th>\n",
       "      <th>active</th>\n",
       "    </tr>\n",
       "  </thead>\n",
       "  <tbody>\n",
       "    <tr>\n",
       "      <th>0</th>\n",
       "      <td>AH</td>\n",
       "      <td>794</td>\n",
       "      <td>AAE</td>\n",
       "      <td>220</td>\n",
       "      <td>Rabah Bitat Airport</td>\n",
       "      <td>Annaba</td>\n",
       "      <td>Algeria</td>\n",
       "      <td>ALG</td>\n",
       "      <td>210</td>\n",
       "      <td>Houari Boumediene Airport</td>\n",
       "      <td>Algier</td>\n",
       "      <td>Algeria</td>\n",
       "      <td>0</td>\n",
       "      <td>Air Algerie</td>\n",
       "      <td>Y</td>\n",
       "    </tr>\n",
       "    <tr>\n",
       "      <th>1</th>\n",
       "      <td>AH</td>\n",
       "      <td>794</td>\n",
       "      <td>AAE</td>\n",
       "      <td>220</td>\n",
       "      <td>Rabah Bitat Airport</td>\n",
       "      <td>Annaba</td>\n",
       "      <td>Algeria</td>\n",
       "      <td>CDG</td>\n",
       "      <td>1382</td>\n",
       "      <td>Charles de Gaulle International Airport</td>\n",
       "      <td>Paris</td>\n",
       "      <td>France</td>\n",
       "      <td>0</td>\n",
       "      <td>Air Algerie</td>\n",
       "      <td>Y</td>\n",
       "    </tr>\n",
       "    <tr>\n",
       "      <th>2</th>\n",
       "      <td>AH</td>\n",
       "      <td>794</td>\n",
       "      <td>AAE</td>\n",
       "      <td>220</td>\n",
       "      <td>Rabah Bitat Airport</td>\n",
       "      <td>Annaba</td>\n",
       "      <td>Algeria</td>\n",
       "      <td>IST</td>\n",
       "      <td>1701</td>\n",
       "      <td>Istanbul Airport</td>\n",
       "      <td>Istanbul</td>\n",
       "      <td>Turkey</td>\n",
       "      <td>0</td>\n",
       "      <td>Air Algerie</td>\n",
       "      <td>Y</td>\n",
       "    </tr>\n",
       "  </tbody>\n",
       "</table>\n",
       "</div>"
      ],
      "text/plain": [
       "  airline  airlineID sourceAirport  sourceAirportID    sourceAirportName  \\\n",
       "0      AH        794           AAE              220  Rabah Bitat Airport   \n",
       "1      AH        794           AAE              220  Rabah Bitat Airport   \n",
       "2      AH        794           AAE              220  Rabah Bitat Airport   \n",
       "\n",
       "  sourceCity sourceCountry destinationAirport  destinationAirportID  \\\n",
       "0     Annaba       Algeria                ALG                   210   \n",
       "1     Annaba       Algeria                CDG                  1382   \n",
       "2     Annaba       Algeria                IST                  1701   \n",
       "\n",
       "                    destinationAirportName destinationCity destinationCountry  \\\n",
       "0                Houari Boumediene Airport          Algier            Algeria   \n",
       "1  Charles de Gaulle International Airport           Paris             France   \n",
       "2                         Istanbul Airport        Istanbul             Turkey   \n",
       "\n",
       "   Stops  airlineName active  \n",
       "0      0  Air Algerie      Y  \n",
       "1      0  Air Algerie      Y  \n",
       "2      0  Air Algerie      Y  "
      ]
     },
     "execution_count": 15,
     "metadata": {},
     "output_type": "execute_result"
    }
   ],
   "source": [
    "base_data.head(3)"
   ]
  },
  {
   "cell_type": "code",
   "execution_count": 16,
   "metadata": {},
   "outputs": [
    {
     "name": "stdout",
     "output_type": "stream",
     "text": [
      "airline :  String\n",
      "airlineID :  Numerical\n",
      "sourceAirport :  String\n",
      "sourceAirportID :  Numerical\n",
      "sourceAirportName :  String\n",
      "sourceCity :  String\n",
      "sourceCountry :  String\n",
      "destinationAirport :  String\n",
      "destinationAirportID :  Numerical\n",
      "destinationAirportName :  String\n",
      "destinationCity :  String\n",
      "destinationCountry :  String\n",
      "Stops :  Numerical\n",
      "airlineName :  String\n",
      "active :  String\n"
     ]
    }
   ],
   "source": [
    "# Functions to perform clean grouping of the data types\n",
    "\n",
    "def get_var_category(series):\n",
    "    unique_count = series.nunique(dropna=False)\n",
    "    total_count = len(series)\n",
    "    if pd.api.types.is_numeric_dtype(series):\n",
    "        return 'Numerical'\n",
    "    elif pd.api.types.is_datetime64_dtype(series):\n",
    "        return 'Date'\n",
    "    elif pd.api.types.is_string_dtype(series):\n",
    "        return 'String'\n",
    "    elif unique_count==total_count:\n",
    "        return 'Text (Unique)'\n",
    "    else:\n",
    "        return 'Categorical'\n",
    "\n",
    "def print_categories(df):\n",
    "    for column_name in df.columns:\n",
    "        print(column_name,\": \", get_var_category(df[column_name]))\n",
    "\n",
    "print_categories(base_data)"
   ]
  },
  {
   "cell_type": "code",
   "execution_count": 17,
   "metadata": {},
   "outputs": [
    {
     "data": {
      "text/plain": [
       "airline                   66442\n",
       "airlineID                 66442\n",
       "sourceAirport             66442\n",
       "sourceAirportID           66442\n",
       "sourceAirportName         66442\n",
       "sourceCity                66442\n",
       "sourceCountry             66442\n",
       "destinationAirport        66442\n",
       "destinationAirportID      66442\n",
       "destinationAirportName    66176\n",
       "destinationCity           66176\n",
       "destinationCountry        66176\n",
       "Stops                     66442\n",
       "airlineName               66442\n",
       "active                    66442\n",
       "dtype: int64"
      ]
     },
     "execution_count": 17,
     "metadata": {},
     "output_type": "execute_result"
    }
   ],
   "source": [
    "base_data.count()"
   ]
  },
  {
   "cell_type": "code",
   "execution_count": 18,
   "metadata": {},
   "outputs": [],
   "source": [
    "#Dropping NA and 0 values from destinationAirportName, destinationCity,destinationCountry\n",
    "\n",
    "base_data.dropna(subset = [\"destinationAirportName\", \"destinationCity\", \"destinationCountry\" ], inplace=True)"
   ]
  },
  {
   "cell_type": "code",
   "execution_count": 46,
   "metadata": {},
   "outputs": [
    {
     "data": {
      "text/plain": [
       "airline                   0\n",
       "airlineID                 0\n",
       "sourceAirport             0\n",
       "sourceAirportID           0\n",
       "sourceAirportName         0\n",
       "sourceCity                0\n",
       "sourceCountry             0\n",
       "destinationAirport        0\n",
       "destinationAirportID      0\n",
       "destinationAirportName    0\n",
       "destinationCity           0\n",
       "destinationCountry        0\n",
       "Stops                     0\n",
       "airlineName               0\n",
       "active                    0\n",
       "dtype: int64"
      ]
     },
     "execution_count": 46,
     "metadata": {},
     "output_type": "execute_result"
    }
   ],
   "source": [
    "base_data.isnull().sum() #Columns have no null values"
   ]
  },
  {
   "cell_type": "code",
   "execution_count": 19,
   "metadata": {},
   "outputs": [],
   "source": [
    "# Converting all headings to UPPER CASE for Consistency\n",
    "\n",
    "base_data.columns = base_data.columns.str.upper()"
   ]
  },
  {
   "cell_type": "code",
   "execution_count": 20,
   "metadata": {},
   "outputs": [
    {
     "data": {
      "text/html": [
       "<div>\n",
       "<style scoped>\n",
       "    .dataframe tbody tr th:only-of-type {\n",
       "        vertical-align: middle;\n",
       "    }\n",
       "\n",
       "    .dataframe tbody tr th {\n",
       "        vertical-align: top;\n",
       "    }\n",
       "\n",
       "    .dataframe thead th {\n",
       "        text-align: right;\n",
       "    }\n",
       "</style>\n",
       "<table border=\"1\" class=\"dataframe\">\n",
       "  <thead>\n",
       "    <tr style=\"text-align: right;\">\n",
       "      <th></th>\n",
       "      <th>AIRLINE</th>\n",
       "      <th>AIRLINEID</th>\n",
       "      <th>SOURCEAIRPORT</th>\n",
       "      <th>SOURCEAIRPORTID</th>\n",
       "      <th>SOURCEAIRPORTNAME</th>\n",
       "      <th>SOURCECITY</th>\n",
       "      <th>SOURCECOUNTRY</th>\n",
       "      <th>DESTINATIONAIRPORT</th>\n",
       "      <th>DESTINATIONAIRPORTID</th>\n",
       "      <th>DESTINATIONAIRPORTNAME</th>\n",
       "      <th>DESTINATIONCITY</th>\n",
       "      <th>DESTINATIONCOUNTRY</th>\n",
       "      <th>STOPS</th>\n",
       "      <th>AIRLINENAME</th>\n",
       "      <th>ACTIVE</th>\n",
       "    </tr>\n",
       "  </thead>\n",
       "  <tbody>\n",
       "    <tr>\n",
       "      <th>0</th>\n",
       "      <td>AH</td>\n",
       "      <td>794</td>\n",
       "      <td>AAE</td>\n",
       "      <td>220</td>\n",
       "      <td>Rabah Bitat Airport</td>\n",
       "      <td>Annaba</td>\n",
       "      <td>Algeria</td>\n",
       "      <td>ALG</td>\n",
       "      <td>210</td>\n",
       "      <td>Houari Boumediene Airport</td>\n",
       "      <td>Algier</td>\n",
       "      <td>Algeria</td>\n",
       "      <td>0</td>\n",
       "      <td>Air Algerie</td>\n",
       "      <td>Y</td>\n",
       "    </tr>\n",
       "    <tr>\n",
       "      <th>1</th>\n",
       "      <td>AH</td>\n",
       "      <td>794</td>\n",
       "      <td>AAE</td>\n",
       "      <td>220</td>\n",
       "      <td>Rabah Bitat Airport</td>\n",
       "      <td>Annaba</td>\n",
       "      <td>Algeria</td>\n",
       "      <td>CDG</td>\n",
       "      <td>1382</td>\n",
       "      <td>Charles de Gaulle International Airport</td>\n",
       "      <td>Paris</td>\n",
       "      <td>France</td>\n",
       "      <td>0</td>\n",
       "      <td>Air Algerie</td>\n",
       "      <td>Y</td>\n",
       "    </tr>\n",
       "  </tbody>\n",
       "</table>\n",
       "</div>"
      ],
      "text/plain": [
       "  AIRLINE  AIRLINEID SOURCEAIRPORT  SOURCEAIRPORTID    SOURCEAIRPORTNAME  \\\n",
       "0      AH        794           AAE              220  Rabah Bitat Airport   \n",
       "1      AH        794           AAE              220  Rabah Bitat Airport   \n",
       "\n",
       "  SOURCECITY SOURCECOUNTRY DESTINATIONAIRPORT  DESTINATIONAIRPORTID  \\\n",
       "0     Annaba       Algeria                ALG                   210   \n",
       "1     Annaba       Algeria                CDG                  1382   \n",
       "\n",
       "                    DESTINATIONAIRPORTNAME DESTINATIONCITY DESTINATIONCOUNTRY  \\\n",
       "0                Houari Boumediene Airport          Algier            Algeria   \n",
       "1  Charles de Gaulle International Airport           Paris             France   \n",
       "\n",
       "   STOPS  AIRLINENAME ACTIVE  \n",
       "0      0  Air Algerie      Y  \n",
       "1      0  Air Algerie      Y  "
      ]
     },
     "execution_count": 20,
     "metadata": {},
     "output_type": "execute_result"
    }
   ],
   "source": [
    "base_data.head(2)"
   ]
  },
  {
   "cell_type": "code",
   "execution_count": 21,
   "metadata": {},
   "outputs": [],
   "source": [
    "#Renaming the headings to uniform \n",
    "\n",
    "base_data.rename(columns={\"AIRLINEID\": \"AIRLINE_ID\",\"SOURCEAIRPORT\": \"SOURCE_AIRPORT\", \"SOURCEAIRPORTID\" : \n",
    "                          \"SOURCE_AIRPORT_ID\", \"SOURCEAIRPORTNAME\" : \"SOURCE_AIRPORT_NAME\", \n",
    "                          \"SOURCECITY\" : \"SOURCE_CITY\", \"SOURCECOUNTRY\" : \"SOURCE_COUNTRY\",\n",
    "                         \"DESTINATIONAIRPORT\" : \"DESTINATION_AIRPORT\", \"DESTINATIONAIRPORTID\" : \"DESTINATION_AIRPORT_ID\",\n",
    "                         \"DESTINATIONAIRPORTNAME\" : \"DESTINATION_AIRPORT_NAME\",\n",
    "                         \"DESTINATIONCITY\" : \"DESTINATION_CITY\", \"DESTINATIONCOUNTRY\" : \"DESTINATION_COUNTRY\",\n",
    "                        \"AIRLINENAME\" : \"AIRLINE_NAME\"}, inplace=True)"
   ]
  },
  {
   "cell_type": "code",
   "execution_count": 22,
   "metadata": {},
   "outputs": [
    {
     "data": {
      "text/html": [
       "<div>\n",
       "<style scoped>\n",
       "    .dataframe tbody tr th:only-of-type {\n",
       "        vertical-align: middle;\n",
       "    }\n",
       "\n",
       "    .dataframe tbody tr th {\n",
       "        vertical-align: top;\n",
       "    }\n",
       "\n",
       "    .dataframe thead th {\n",
       "        text-align: right;\n",
       "    }\n",
       "</style>\n",
       "<table border=\"1\" class=\"dataframe\">\n",
       "  <thead>\n",
       "    <tr style=\"text-align: right;\">\n",
       "      <th></th>\n",
       "      <th>AIRLINE</th>\n",
       "      <th>AIRLINE_ID</th>\n",
       "      <th>SOURCE_AIRPORT</th>\n",
       "      <th>SOURCE_AIRPORT_ID</th>\n",
       "      <th>SOURCE_AIRPORT_NAME</th>\n",
       "      <th>SOURCE_CITY</th>\n",
       "      <th>SOURCE_COUNTRY</th>\n",
       "      <th>DESTINATION_AIRPORT</th>\n",
       "      <th>DESTINATION_AIRPORT_ID</th>\n",
       "      <th>DESTINATION_AIRPORT_NAME</th>\n",
       "      <th>DESTINATION_CITY</th>\n",
       "      <th>DESTINATION_COUNTRY</th>\n",
       "      <th>STOPS</th>\n",
       "      <th>AIRLINE_NAME</th>\n",
       "      <th>ACTIVE</th>\n",
       "    </tr>\n",
       "  </thead>\n",
       "  <tbody>\n",
       "    <tr>\n",
       "      <th>0</th>\n",
       "      <td>AH</td>\n",
       "      <td>794</td>\n",
       "      <td>AAE</td>\n",
       "      <td>220</td>\n",
       "      <td>Rabah Bitat Airport</td>\n",
       "      <td>Annaba</td>\n",
       "      <td>Algeria</td>\n",
       "      <td>ALG</td>\n",
       "      <td>210</td>\n",
       "      <td>Houari Boumediene Airport</td>\n",
       "      <td>Algier</td>\n",
       "      <td>Algeria</td>\n",
       "      <td>0</td>\n",
       "      <td>Air Algerie</td>\n",
       "      <td>Y</td>\n",
       "    </tr>\n",
       "    <tr>\n",
       "      <th>1</th>\n",
       "      <td>AH</td>\n",
       "      <td>794</td>\n",
       "      <td>AAE</td>\n",
       "      <td>220</td>\n",
       "      <td>Rabah Bitat Airport</td>\n",
       "      <td>Annaba</td>\n",
       "      <td>Algeria</td>\n",
       "      <td>CDG</td>\n",
       "      <td>1382</td>\n",
       "      <td>Charles de Gaulle International Airport</td>\n",
       "      <td>Paris</td>\n",
       "      <td>France</td>\n",
       "      <td>0</td>\n",
       "      <td>Air Algerie</td>\n",
       "      <td>Y</td>\n",
       "    </tr>\n",
       "  </tbody>\n",
       "</table>\n",
       "</div>"
      ],
      "text/plain": [
       "  AIRLINE  AIRLINE_ID SOURCE_AIRPORT  SOURCE_AIRPORT_ID  SOURCE_AIRPORT_NAME  \\\n",
       "0      AH         794            AAE                220  Rabah Bitat Airport   \n",
       "1      AH         794            AAE                220  Rabah Bitat Airport   \n",
       "\n",
       "  SOURCE_CITY SOURCE_COUNTRY DESTINATION_AIRPORT  DESTINATION_AIRPORT_ID  \\\n",
       "0      Annaba        Algeria                 ALG                     210   \n",
       "1      Annaba        Algeria                 CDG                    1382   \n",
       "\n",
       "                  DESTINATION_AIRPORT_NAME DESTINATION_CITY  \\\n",
       "0                Houari Boumediene Airport           Algier   \n",
       "1  Charles de Gaulle International Airport            Paris   \n",
       "\n",
       "  DESTINATION_COUNTRY  STOPS AIRLINE_NAME ACTIVE  \n",
       "0             Algeria      0  Air Algerie      Y  \n",
       "1              France      0  Air Algerie      Y  "
      ]
     },
     "execution_count": 22,
     "metadata": {},
     "output_type": "execute_result"
    }
   ],
   "source": [
    "base_data.head(2)"
   ]
  },
  {
   "cell_type": "code",
   "execution_count": 63,
   "metadata": {},
   "outputs": [
    {
     "data": {
      "text/html": [
       "<div>\n",
       "<style scoped>\n",
       "    .dataframe tbody tr th:only-of-type {\n",
       "        vertical-align: middle;\n",
       "    }\n",
       "\n",
       "    .dataframe tbody tr th {\n",
       "        vertical-align: top;\n",
       "    }\n",
       "\n",
       "    .dataframe thead th {\n",
       "        text-align: right;\n",
       "    }\n",
       "</style>\n",
       "<table border=\"1\" class=\"dataframe\">\n",
       "  <thead>\n",
       "    <tr style=\"text-align: right;\">\n",
       "      <th></th>\n",
       "      <th>AIRLINE</th>\n",
       "      <th>DESTINATION_AIRPORT_NAME</th>\n",
       "      <th>ACTIVE</th>\n",
       "    </tr>\n",
       "  </thead>\n",
       "  <tbody>\n",
       "    <tr>\n",
       "      <th>count</th>\n",
       "      <td>66176</td>\n",
       "      <td>66176</td>\n",
       "      <td>66176</td>\n",
       "    </tr>\n",
       "    <tr>\n",
       "      <th>unique</th>\n",
       "      <td>544</td>\n",
       "      <td>3102</td>\n",
       "      <td>2</td>\n",
       "    </tr>\n",
       "    <tr>\n",
       "      <th>top</th>\n",
       "      <td>FR</td>\n",
       "      <td>Hartsfield Jackson Atlanta International Airport</td>\n",
       "      <td>Y</td>\n",
       "    </tr>\n",
       "    <tr>\n",
       "      <th>freq</th>\n",
       "      <td>2484</td>\n",
       "      <td>911</td>\n",
       "      <td>65553</td>\n",
       "    </tr>\n",
       "  </tbody>\n",
       "</table>\n",
       "</div>"
      ],
      "text/plain": [
       "       AIRLINE                          DESTINATION_AIRPORT_NAME ACTIVE\n",
       "count    66176                                             66176  66176\n",
       "unique     544                                              3102      2\n",
       "top         FR  Hartsfield Jackson Atlanta International Airport      Y\n",
       "freq      2484                                               911  65553"
      ]
     },
     "execution_count": 63,
     "metadata": {},
     "output_type": "execute_result"
    }
   ],
   "source": [
    "#Displying the total number of active airlines, unique count of airlines ..... in table form\n",
    "\n",
    "base_data[['AIRLINE', 'DESTINATION_AIRPORT_NAME', 'ACTIVE']].describe()"
   ]
  },
  {
   "cell_type": "code",
   "execution_count": 64,
   "metadata": {},
   "outputs": [
    {
     "data": {
      "text/plain": [
       "(66176, 15)"
      ]
     },
     "execution_count": 64,
     "metadata": {},
     "output_type": "execute_result"
    }
   ],
   "source": [
    "base_data.shape  #Checking the original shape"
   ]
  },
  {
   "cell_type": "code",
   "execution_count": 65,
   "metadata": {},
   "outputs": [],
   "source": [
    "base_data.drop_duplicates(inplace=True)"
   ]
  },
  {
   "cell_type": "code",
   "execution_count": 23,
   "metadata": {},
   "outputs": [
    {
     "data": {
      "text/plain": [
       "(66176, 15)"
      ]
     },
     "execution_count": 23,
     "metadata": {},
     "output_type": "execute_result"
    }
   ],
   "source": [
    "base_data.shape #No duplicates found"
   ]
  },
  {
   "cell_type": "code",
   "execution_count": 68,
   "metadata": {},
   "outputs": [
    {
     "data": {
      "image/png": "[encoded data removed]",
      "text/plain": [
       "<Figure size 720x576 with 2 Axes>"
      ]
     },
     "metadata": {
      "needs_background": "light"
     },
     "output_type": "display_data"
    }
   ],
   "source": [
    "# Heatmap of Cleaned Data\n",
    "\n",
    "plt.figure(figsize=(10,8))\n",
    "corr=base_data.corr()\n",
    "sns.heatmap(corr, xticklabels=corr.columns.values, yticklabels=corr.columns.values, annot=True)\n",
    "plt.title('Heatmap of Cleaned Data')\n",
    "plt.show()"
   ]
  },
  {
   "cell_type": "code",
   "execution_count": 80,
   "metadata": {},
   "outputs": [],
   "source": [
    "#Applying K-Means Clustering"
   ]
  },
  {
   "cell_type": "code",
   "execution_count": 81,
   "metadata": {},
   "outputs": [
    {
     "data": {
      "text/plain": [
       "array([['AH', 794, 'AAE', ..., 0, 'Air Algerie', 'Y'],\n",
       "       ['AH', 794, 'AAE', ..., 0, 'Air Algerie', 'Y'],\n",
       "       ['AH', 794, 'AAE', ..., 0, 'Air Algerie', 'Y'],\n",
       "       ...,\n",
       "       ['BG', 1359, 'ZYL', ..., 0, 'Biman Bangladesh Airlines', 'Y'],\n",
       "       ['RX', 19676, 'ZYL', ..., 0, 'Rainbow Air Polynesia', 'Y'],\n",
       "       ['VQ', 11948, 'ZYL', ..., 0, 'Viking Hellas', 'Y']], dtype=object)"
      ]
     },
     "execution_count": 81,
     "metadata": {},
     "output_type": "execute_result"
    }
   ],
   "source": [
    "airmat = base_data.to_numpy()\n",
    "airmat"
   ]
  },
  {
   "cell_type": "code",
   "execution_count": 26,
   "metadata": {},
   "outputs": [],
   "source": [
    "import sklearn\n",
    "from sklearn.cluster import KMeans\n",
    "from sklearn.model_selection import train_test_split\n",
    "from sklearn.ensemble import RandomForestClassifier"
   ]
  },
  {
   "cell_type": "code",
   "execution_count": null,
   "metadata": {},
   "outputs": [],
   "source": [
    "#To be Continued ...."
   ]
  }
 ],
 "metadata": {
  "kernelspec": {
   "display_name": "Python 3",
   "language": "python",
   "name": "python3"
  },
  "language_info": {
   "codemirror_mode": {
    "name": "ipython",
    "version": 3
   },
   "file_extension": ".py",
   "mimetype": "text/x-python",
   "name": "python",
   "nbconvert_exporter": "python",
   "pygments_lexer": "ipython3",
   "version": "3.8.5"
  }
 },
 "nbformat": 4,
 "nbformat_minor": 4
}
